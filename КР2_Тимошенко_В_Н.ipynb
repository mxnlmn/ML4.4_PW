{
  "nbformat": 4,
  "nbformat_minor": 0,
  "metadata": {
    "colab": {
      "provenance": [],
      "authorship_tag": "ABX9TyP3fg8uvc1of8pyQMDZEr3Z",
      "include_colab_link": true
    },
    "kernelspec": {
      "name": "python3",
      "display_name": "Python 3"
    },
    "language_info": {
      "name": "python"
    }
  },
  "cells": [
    {
      "cell_type": "markdown",
      "metadata": {
        "id": "view-in-github",
        "colab_type": "text"
      },
      "source": [
        "<a href=\"https://colab.research.google.com/github/mxnlmn/ML4.4_PW/blob/main/%D0%9A%D0%A02_%D0%A2%D0%B8%D0%BC%D0%BE%D1%88%D0%B5%D0%BD%D0%BA%D0%BE_%D0%92_%D0%9D.ipynb\" target=\"_parent\"><img src=\"https://colab.research.google.com/assets/colab-badge.svg\" alt=\"Open In Colab\"/></a>"
      ]
    },
    {
      "cell_type": "code",
      "source": [
        "!pip install scikit-surprise"
      ],
      "metadata": {
        "colab": {
          "base_uri": "https://localhost:8080/"
        },
        "id": "_bcuJvAtpwmI",
        "outputId": "02dde93c-1213-460a-e118-888431d82242"
      },
      "execution_count": 2,
      "outputs": [
        {
          "output_type": "stream",
          "name": "stdout",
          "text": [
            "Collecting scikit-surprise\n",
            "  Downloading scikit-surprise-1.1.3.tar.gz (771 kB)\n",
            "\u001b[2K     \u001b[90m━━━━━━━━━━━━━━━━━━━━━━━━━━━━━━━━━━━━━━━━\u001b[0m \u001b[32m772.0/772.0 kB\u001b[0m \u001b[31m976.7 kB/s\u001b[0m eta \u001b[36m0:00:00\u001b[0m\n",
            "\u001b[?25h  Preparing metadata (setup.py) ... \u001b[?25l\u001b[?25hdone\n",
            "Requirement already satisfied: joblib>=1.0.0 in /usr/local/lib/python3.10/dist-packages (from scikit-surprise) (1.3.2)\n",
            "Requirement already satisfied: numpy>=1.17.3 in /usr/local/lib/python3.10/dist-packages (from scikit-surprise) (1.23.5)\n",
            "Requirement already satisfied: scipy>=1.3.2 in /usr/local/lib/python3.10/dist-packages (from scikit-surprise) (1.11.4)\n",
            "Building wheels for collected packages: scikit-surprise\n",
            "  Building wheel for scikit-surprise (setup.py) ... \u001b[?25l\u001b[?25hdone\n",
            "  Created wheel for scikit-surprise: filename=scikit_surprise-1.1.3-cp310-cp310-linux_x86_64.whl size=3163761 sha256=31084f2712b134160410f29ba9f67e62569c874e12128c22695d21407147af0e\n",
            "  Stored in directory: /root/.cache/pip/wheels/a5/ca/a8/4e28def53797fdc4363ca4af740db15a9c2f1595ebc51fb445\n",
            "Successfully built scikit-surprise\n",
            "Installing collected packages: scikit-surprise\n",
            "Successfully installed scikit-surprise-1.1.3\n"
          ]
        }
      ]
    },
    {
      "cell_type": "code",
      "execution_count": 3,
      "metadata": {
        "id": "vz5zkMJ0peMT"
      },
      "outputs": [],
      "source": [
        "from surprise import Dataset, Reader\n",
        "from surprise.model_selection import cross_validate\n",
        "from surprise import SVD, SVDpp\n",
        "import matplotlib.pyplot as plt"
      ]
    },
    {
      "cell_type": "code",
      "source": [
        "# Завантаження датасету movielens-100k\n",
        "data = Dataset.load_builtin('ml-100k')"
      ],
      "metadata": {
        "colab": {
          "base_uri": "https://localhost:8080/"
        },
        "id": "bv1-0j_Op2Qx",
        "outputId": "4d265a09-4211-4782-9d12-089a54796ffd"
      },
      "execution_count": 4,
      "outputs": [
        {
          "output_type": "stream",
          "name": "stdout",
          "text": [
            "Dataset ml-100k could not be found. Do you want to download it? [Y/n] y\n",
            "Trying to download dataset from https://files.grouplens.org/datasets/movielens/ml-100k.zip...\n",
            "Done! Dataset ml-100k has been saved to /root/.surprise_data/ml-100k\n"
          ]
        }
      ]
    },
    {
      "cell_type": "code",
      "source": [
        "# Створення об'єкта Reader для зчитування даних\n",
        "reader = Reader(line_format='user item rating timestamp', sep='\\t')"
      ],
      "metadata": {
        "id": "EB9Ni7ojp6WY"
      },
      "execution_count": 5,
      "outputs": []
    },
    {
      "cell_type": "code",
      "source": [
        "# Визначення алгоритмів\n",
        "algorithms = [SVD(), SVDpp()]"
      ],
      "metadata": {
        "id": "Zj_qcBQ8qIrD"
      },
      "execution_count": 6,
      "outputs": []
    },
    {
      "cell_type": "code",
      "source": [
        "# Перебір алгоритмів та підбір параметрів за допомогою крос-валідації\n",
        "for algo in algorithms:\n",
        "    print(f'Cross validating {algo.__class__.__name__}')\n",
        "    results = cross_validate(algo, data, measures=['RMSE'], cv=5, verbose=True)\n",
        "    print(f'Mean RMSE: {results[\"test_rmse\"].mean()}')"
      ],
      "metadata": {
        "colab": {
          "base_uri": "https://localhost:8080/"
        },
        "id": "xtXCSfwHqLbV",
        "outputId": "22a2f3f2-c7ed-4fd4-d773-29f694d7ab49"
      },
      "execution_count": 7,
      "outputs": [
        {
          "output_type": "stream",
          "name": "stdout",
          "text": [
            "Cross validating SVD\n",
            "Evaluating RMSE of algorithm SVD on 5 split(s).\n",
            "\n",
            "                  Fold 1  Fold 2  Fold 3  Fold 4  Fold 5  Mean    Std     \n",
            "RMSE (testset)    0.9292  0.9328  0.9373  0.9472  0.9362  0.9366  0.0060  \n",
            "Fit time          3.63    1.44    1.50    1.45    1.44    1.89    0.87    \n",
            "Test time         0.17    0.26    0.14    0.21    0.24    0.21    0.05    \n",
            "Mean RMSE: 0.9365520374215002\n",
            "Cross validating SVDpp\n",
            "Evaluating RMSE of algorithm SVDpp on 5 split(s).\n",
            "\n",
            "                  Fold 1  Fold 2  Fold 3  Fold 4  Fold 5  Mean    Std     \n",
            "RMSE (testset)    0.9205  0.9160  0.9224  0.9181  0.9189  0.9192  0.0022  \n",
            "Fit time          39.28   28.00   27.48   27.61   28.64   30.20   4.56    \n",
            "Test time         4.26    5.53    4.61    4.56    5.71    4.93    0.58    \n",
            "Mean RMSE: 0.9191599708009465\n"
          ]
        }
      ]
    },
    {
      "cell_type": "code",
      "source": [
        "# Вибір найкращого алгоритму\n",
        "best_algorithm = SVD()  # чи SVDpp, залежно від результатів крос-валідації"
      ],
      "metadata": {
        "id": "MHr18GopqPiI"
      },
      "execution_count": 8,
      "outputs": []
    },
    {
      "cell_type": "code",
      "source": [
        "# Обучення моделі на всьому наборі даних\n",
        "trainset = data.build_full_trainset()\n",
        "best_algorithm.fit(trainset)"
      ],
      "metadata": {
        "colab": {
          "base_uri": "https://localhost:8080/"
        },
        "id": "yjZoz-SsqQvf",
        "outputId": "c8ec64a2-88cd-4c04-e1f3-aa79f273378e"
      },
      "execution_count": 9,
      "outputs": [
        {
          "output_type": "execute_result",
          "data": {
            "text/plain": [
              "<surprise.prediction_algorithms.matrix_factorization.SVD at 0x7fe6e7e49960>"
            ]
          },
          "metadata": {},
          "execution_count": 9
        }
      ]
    },
    {
      "cell_type": "code",
      "source": [
        "# Візуалізація\n",
        "plt.bar(['SVD', 'SVDpp'], [results['test_rmse'].mean() for algo in algorithms])\n",
        "plt.ylabel('Mean RMSE')\n",
        "plt.title('Comparison of Algorithms')\n",
        "plt.show()"
      ],
      "metadata": {
        "colab": {
          "base_uri": "https://localhost:8080/",
          "height": 452
        },
        "id": "D7rwhxHNqUh6",
        "outputId": "744856f8-6c39-401b-e28b-78d9944c74f1"
      },
      "execution_count": 10,
      "outputs": [
        {
          "output_type": "display_data",
          "data": {
            "text/plain": [
              "<Figure size 640x480 with 1 Axes>"
            ],
            "image/png": "[encoded data removed]"
          },
          "metadata": {}
        }
      ]
    }
  ]
}