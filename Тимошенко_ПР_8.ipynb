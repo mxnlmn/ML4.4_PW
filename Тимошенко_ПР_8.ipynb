{
  "nbformat": 4,
  "nbformat_minor": 0,
  "metadata": {
    "colab": {
      "provenance": [],
      "authorship_tag": "ABX9TyPAoJ7onqrec+I0nXvzw3T5",
      "include_colab_link": true
    },
    "kernelspec": {
      "name": "python3",
      "display_name": "Python 3"
    },
    "language_info": {
      "name": "python"
    }
  },
  "cells": [
    {
      "cell_type": "markdown",
      "metadata": {
        "id": "view-in-github",
        "colab_type": "text"
      },
      "source": [
        "<a href=\"https://colab.research.google.com/github/mxnlmn/ML4.4_PW/blob/main/%D0%A2%D0%B8%D0%BC%D0%BE%D1%88%D0%B5%D0%BD%D0%BA%D0%BE_%D0%9F%D0%A0_8.ipynb\" target=\"_parent\"><img src=\"https://colab.research.google.com/assets/colab-badge.svg\" alt=\"Open In Colab\"/></a>"
      ]
    },
    {
      "cell_type": "code",
      "execution_count": 1,
      "metadata": {
        "colab": {
          "base_uri": "https://localhost:8080/"
        },
        "id": "AVe9HYOSinb6",
        "outputId": "d143359b-cb2b-4b54-bc9c-2cc7a33bd877"
      },
      "outputs": [
        {
          "output_type": "stream",
          "name": "stdout",
          "text": [
            "Collecting scikit-surprise\n",
            "  Downloading scikit-surprise-1.1.3.tar.gz (771 kB)\n",
            "\u001b[2K     \u001b[90m━━━━━━━━━━━━━━━━━━━━━━━━━━━━━━━━━━━━━━━━\u001b[0m \u001b[32m772.0/772.0 kB\u001b[0m \u001b[31m9.7 MB/s\u001b[0m eta \u001b[36m0:00:00\u001b[0m\n",
            "\u001b[?25h  Preparing metadata (setup.py) ... \u001b[?25l\u001b[?25hdone\n",
            "Requirement already satisfied: joblib>=1.0.0 in /usr/local/lib/python3.10/dist-packages (from scikit-surprise) (1.3.2)\n",
            "Requirement already satisfied: numpy>=1.17.3 in /usr/local/lib/python3.10/dist-packages (from scikit-surprise) (1.23.5)\n",
            "Requirement already satisfied: scipy>=1.3.2 in /usr/local/lib/python3.10/dist-packages (from scikit-surprise) (1.11.3)\n",
            "Building wheels for collected packages: scikit-surprise\n",
            "  Building wheel for scikit-surprise (setup.py) ... \u001b[?25l\u001b[?25hdone\n",
            "  Created wheel for scikit-surprise: filename=scikit_surprise-1.1.3-cp310-cp310-linux_x86_64.whl size=3163497 sha256=76ca103085217d22c71206b607973fe977adb0649229f7e34d5a81b7a85ccf61\n",
            "  Stored in directory: /root/.cache/pip/wheels/a5/ca/a8/4e28def53797fdc4363ca4af740db15a9c2f1595ebc51fb445\n",
            "Successfully built scikit-surprise\n",
            "Installing collected packages: scikit-surprise\n",
            "Successfully installed scikit-surprise-1.1.3\n"
          ]
        }
      ],
      "source": [
        "!pip install scikit-surprise\n"
      ]
    },
    {
      "cell_type": "code",
      "source": [
        "from surprise import Dataset\n",
        "from surprise import SVD, SVDpp, NMF, KNNBasic, KNNWithZScore\n",
        "from surprise.model_selection import cross_validate\n",
        "import matplotlib.pyplot as plt\n",
        "import pandas as pd\n",
        "import numpy as np"
      ],
      "metadata": {
        "id": "1foUyKQgi1OB"
      },
      "execution_count": 2,
      "outputs": []
    },
    {
      "cell_type": "markdown",
      "source": [
        "Використати датасет   movielens-100k`"
      ],
      "metadata": {
        "id": "1cnScLUKjA6g"
      }
    },
    {
      "cell_type": "code",
      "source": [
        "data = Dataset.load_builtin(name='ml-100k')"
      ],
      "metadata": {
        "colab": {
          "base_uri": "https://localhost:8080/"
        },
        "id": "byROgRWGjCQz",
        "outputId": "ddaab882-9176-4e40-88e0-697ecdf7bc8a"
      },
      "execution_count": 3,
      "outputs": [
        {
          "output_type": "stream",
          "name": "stdout",
          "text": [
            "Dataset ml-100k could not be found. Do you want to download it? [Y/n] y\n",
            "Trying to download dataset from https://files.grouplens.org/datasets/movielens/ml-100k.zip...\n",
            "Done! Dataset ml-100k has been saved to /root/.surprise_data/ml-100k\n"
          ]
        }
      ]
    },
    {
      "cell_type": "markdown",
      "source": [
        "Для кращого розуміння роздрукуйте датасет."
      ],
      "metadata": {
        "id": "a9ZhPvuFjFYN"
      }
    },
    {
      "cell_type": "code",
      "source": [
        "df = pd.DataFrame(data.raw_ratings, columns=['user', 'item', 'rating', 'timestamp'])\n",
        "print(df.head())"
      ],
      "metadata": {
        "colab": {
          "base_uri": "https://localhost:8080/"
        },
        "id": "zPLe7nMujKGh",
        "outputId": "7adb4abc-378c-4bd0-e2db-10ffed67eaaf"
      },
      "execution_count": 4,
      "outputs": [
        {
          "output_type": "stream",
          "name": "stdout",
          "text": [
            "  user item  rating  timestamp\n",
            "0  196  242     3.0  881250949\n",
            "1  186  302     3.0  891717742\n",
            "2   22  377     1.0  878887116\n",
            "3  244   51     2.0  880606923\n",
            "4  166  346     1.0  886397596\n"
          ]
        }
      ]
    },
    {
      "cell_type": "markdown",
      "source": [
        "Використайте алгоритми SVD, SVDpp, NMF  + ще два на власний вибір"
      ],
      "metadata": {
        "id": "2NXVffQrjUmH"
      }
    },
    {
      "cell_type": "code",
      "source": [
        "svd_alg = SVD()\n",
        "svdpp_alg = SVDpp()\n",
        "nmf_alg = NMF()\n",
        "knnbasic_alg = KNNBasic()\n",
        "knnzscore_alg = KNNWithZScore()"
      ],
      "metadata": {
        "id": "VZV064F1jYCm"
      },
      "execution_count": 5,
      "outputs": []
    },
    {
      "cell_type": "markdown",
      "source": [
        "Найкращі параметри для всіх алгоритмів підберіть за допомогою крос-валідації."
      ],
      "metadata": {
        "id": "cw-UA8f1jbC7"
      }
    },
    {
      "cell_type": "code",
      "source": [
        "cv_svd = cross_validate(svd_alg, data, measures=['RMSE'], cv=5, verbose=True)\n",
        "cv_svdpp = cross_validate(svdpp_alg , data, measures=['RMSE'], cv=5, verbose=True)\n",
        "cv_nmf = cross_validate(nmf_alg, data, measures=['RMSE'], cv=5, verbose=True)\n",
        "cv_knnbasic = cross_validate(knnbasic_alg, data, measures=['RMSE'], cv=5, verbose=True)\n",
        "cv_knnwithzscore = cross_validate(knnzscore_alg, data, measures=['RMSE'], cv=5, verbose=True)"
      ],
      "metadata": {
        "colab": {
          "base_uri": "https://localhost:8080/"
        },
        "id": "fP6a5HB6jeg_",
        "outputId": "e40dd052-27e5-461e-db9c-aa56c1ebdfbc"
      },
      "execution_count": 7,
      "outputs": [
        {
          "output_type": "stream",
          "name": "stdout",
          "text": [
            "Evaluating RMSE of algorithm SVD on 5 split(s).\n",
            "\n",
            "                  Fold 1  Fold 2  Fold 3  Fold 4  Fold 5  Mean    Std     \n",
            "RMSE (testset)    0.9390  0.9312  0.9324  0.9486  0.9316  0.9366  0.0067  \n",
            "Fit time          1.46    1.38    1.41    1.39    1.41    1.41    0.03    \n",
            "Test time         0.23    0.12    0.25    0.13    0.25    0.20    0.06    \n",
            "Evaluating RMSE of algorithm SVDpp on 5 split(s).\n",
            "\n",
            "                  Fold 1  Fold 2  Fold 3  Fold 4  Fold 5  Mean    Std     \n",
            "RMSE (testset)    0.9139  0.9194  0.9128  0.9254  0.9267  0.9196  0.0057  \n",
            "Fit time          27.63   28.25   28.09   27.85   28.22   28.01   0.24    \n",
            "Test time         5.75    4.11    4.29    5.63    4.08    4.77    0.76    \n",
            "Evaluating RMSE of algorithm NMF on 5 split(s).\n",
            "\n",
            "                  Fold 1  Fold 2  Fold 3  Fold 4  Fold 5  Mean    Std     \n",
            "RMSE (testset)    0.9645  0.9633  0.9667  0.9582  0.9643  0.9634  0.0028  \n",
            "Fit time          2.01    2.11    3.07    2.03    2.03    2.25    0.41    \n",
            "Test time         0.13    0.26    0.18    0.10    0.21    0.18    0.06    \n",
            "Computing the msd similarity matrix...\n",
            "Done computing similarity matrix.\n",
            "Computing the msd similarity matrix...\n",
            "Done computing similarity matrix.\n",
            "Computing the msd similarity matrix...\n",
            "Done computing similarity matrix.\n",
            "Computing the msd similarity matrix...\n",
            "Done computing similarity matrix.\n",
            "Computing the msd similarity matrix...\n",
            "Done computing similarity matrix.\n",
            "Evaluating RMSE of algorithm KNNBasic on 5 split(s).\n",
            "\n",
            "                  Fold 1  Fold 2  Fold 3  Fold 4  Fold 5  Mean    Std     \n",
            "RMSE (testset)    0.9871  0.9779  0.9802  0.9785  0.9724  0.9792  0.0047  \n",
            "Fit time          0.36    0.39    0.53    0.39    0.41    0.42    0.06    \n",
            "Test time         3.03    4.64    3.14    3.21    3.43    3.49    0.59    \n",
            "Computing the msd similarity matrix...\n",
            "Done computing similarity matrix.\n",
            "Computing the msd similarity matrix...\n",
            "Done computing similarity matrix.\n",
            "Computing the msd similarity matrix...\n",
            "Done computing similarity matrix.\n",
            "Computing the msd similarity matrix...\n",
            "Done computing similarity matrix.\n",
            "Computing the msd similarity matrix...\n",
            "Done computing similarity matrix.\n",
            "Evaluating RMSE of algorithm KNNWithZScore on 5 split(s).\n",
            "\n",
            "                  Fold 1  Fold 2  Fold 3  Fold 4  Fold 5  Mean    Std     \n",
            "RMSE (testset)    0.9487  0.9469  0.9450  0.9577  0.9518  0.9500  0.0044  \n",
            "Fit time          0.67    0.48    0.50    0.70    0.49    0.57    0.10    \n",
            "Test time         4.54    3.34    3.38    4.79    3.39    3.89    0.64    \n"
          ]
        }
      ]
    },
    {
      "cell_type": "markdown",
      "source": [
        "Обчисліть середнє значення середньоквадратичної помилки RMSE для кожного алгоритму на основі результатів крос-валідації."
      ],
      "metadata": {
        "id": "rKe8RzCMjhXO"
      }
    },
    {
      "cell_type": "code",
      "source": [
        "rmse_svd = cv_svd['test_rmse'].mean()\n",
        "rmse_svdpp = cv_svdpp['test_rmse'].mean()\n",
        "rmse_nmf = cv_nmf['test_rmse'].mean()\n",
        "rmse_knnbasic = cv_knnbasic['test_rmse'].mean()\n",
        "rmse_knnwithzscore = cv_knnwithzscore['test_rmse'].mean()\n",
        "\n",
        "print(f\"SVD: {rmse_svd}\")\n",
        "print(f\"SVDpp: {rmse_svdpp}\")\n",
        "print(f\"NMF: {rmse_nmf}\")\n",
        "print(f\"KNNBasic: {rmse_knnbasic}\")\n",
        "print(f\"KNNWithZScore: {rmse_knnwithzscore}\")"
      ],
      "metadata": {
        "colab": {
          "base_uri": "https://localhost:8080/"
        },
        "id": "yn2_MZhujlG7",
        "outputId": "9a49321e-e54e-483a-ae42-84f9cf3c2190"
      },
      "execution_count": 8,
      "outputs": [
        {
          "output_type": "stream",
          "name": "stdout",
          "text": [
            "SVD: 0.9365874145256818\n",
            "SVDpp: 0.9196296031492881\n",
            "NMF: 0.9633996283050642\n",
            "KNNBasic: 0.9792217011647427\n",
            "KNNWithZScore: 0.950028185303535\n"
          ]
        }
      ]
    },
    {
      "cell_type": "markdown",
      "source": [
        "Виберіть оптимальний алгоритм"
      ],
      "metadata": {
        "id": "Wb35fY-vjrkC"
      }
    },
    {
      "cell_type": "code",
      "source": [
        "rmse_values = [rmse_svd, rmse_svdpp, rmse_nmf, rmse_knnbasic, rmse_knnwithzscore]\n",
        "algs = ['SVD', 'SVDpp', 'NMF', 'KNNBasic', 'KNNWithZScore']\n",
        "\n",
        "best_alg_index = rmse_values.index(min(rmse_values))\n",
        "best_alg = algs[best_alg_index]\n",
        "best_rmse = rmse_values[best_alg_index]"
      ],
      "metadata": {
        "id": "sokKtWnoj0iZ"
      },
      "execution_count": 9,
      "outputs": []
    },
    {
      "cell_type": "markdown",
      "source": [
        "Зробіть візуалізацію"
      ],
      "metadata": {
        "id": "Q4MB76WKj6t3"
      }
    },
    {
      "cell_type": "code",
      "source": [
        "plt.figure(figsize=(8, 6))\n",
        "plt.yticks(np.arange(0, 1.05, 0.05))\n",
        "plt.grid()\n",
        "plt.bar(algs, rmse_values, color=['orange' if alg != best_alg else 'green' for alg in algs])\n",
        "plt.title('RMSE рекомендаційних алгоритмів')\n",
        "plt.xlabel('Алгоритм')\n",
        "plt.ylabel('RMSE')\n",
        "plt.show()\n",
        "\n",
        "print(f\"Оптимальний алгоритм: {best_alg}\\nЙого значення RMSE: {best_rmse}\")"
      ],
      "metadata": {
        "colab": {
          "base_uri": "https://localhost:8080/",
          "height": 599
        },
        "id": "mGl_DcCuj9cY",
        "outputId": "bb543f72-2a43-469e-b1a2-7d6d9899865e"
      },
      "execution_count": 10,
      "outputs": [
        {
          "output_type": "display_data",
          "data": {
            "text/plain": [
              "<Figure size 800x600 with 1 Axes>"
            ],
            "image/png": "[encoded data removed]"
          },
          "metadata": {}
        },
        {
          "output_type": "stream",
          "name": "stdout",
          "text": [
            "Оптимальний алгоритм: SVDpp\n",
            "Його значення RMSE: 0.9196296031492881\n"
          ]
        }
      ]
    }
  ]
}