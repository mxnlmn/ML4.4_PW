{
 "cells": [
  {
   "attachments": {},
   "cell_type": "markdown",
   "metadata": {},
   "source": [
    "//Завдання 1. Створіть одновимірний масив (вектор) з оберненими значеннями факторіалів натуральних чисел, починаючи з 1, та виведіть його значення. "
   ]
  },
  {
   "cell_type": "code",
   "execution_count": 3,
   "metadata": {},
   "outputs": [
    {
     "name": "stdout",
     "output_type": "stream",
     "text": [
      "1/1! = 1.0\n",
      "1/2! = 0.5\n",
      "1/3! = 0.16666666666666666\n",
      "1/4! = 0.041666666666666664\n",
      "1/5! = 0.008333333333333333\n",
      "1/6! = 0.001388888888888889\n",
      "1/7! = 0.0001984126984126984\n",
      "1/8! = 2.48015873015873e-05\n",
      "1/9! = 2.7557319223985893e-06\n",
      "1/10! = 2.755731922398589e-07\n"
     ]
    }
   ],
   "source": [
    "def factorial(n):\n",
    "    if n == 0:\n",
    "        return 1\n",
    "    else:\n",
    "        return n * factorial(n - 1)\n",
    "\n",
    "n = 10  # Кількість факторіалів, які ви хочете обчислити\n",
    "reverse_factorials = [1 / factorial(i) for i in range(1, n + 1)]\n",
    "\n",
    "for i, value in enumerate(reverse_factorials, start=1):\n",
    "    print(f\"1/{i}! = {value}\")\n"
   ]
  },
  {
   "attachments": {},
   "cell_type": "markdown",
   "metadata": {},
   "source": [
    "//Завдання 2 \n",
    "Створіть двовимірний масив (матрицю) розміром 3x3, заповніть його квадратами факторіалів кожного числа, починаючи з 1, та виведіть його значення. "
   ]
  },
  {
   "cell_type": "code",
   "execution_count": 4,
   "metadata": {},
   "outputs": [
    {
     "name": "stdout",
     "output_type": "stream",
     "text": [
      "[1, 4, 36]\n",
      "[576, 14400, 518400]\n",
      "[25401600, 1625702400, 131681894400]\n"
     ]
    }
   ],
   "source": [
    "def factorial(n):\n",
    "    if n == 0:\n",
    "        return 1\n",
    "    else:\n",
    "        return n * factorial(n - 1)\n",
    "\n",
    "matrix_size = 3\n",
    "matrix = [[0] * matrix_size for _ in range(matrix_size)]\n",
    "\n",
    "for i in range(matrix_size):\n",
    "    for j in range(matrix_size):\n",
    "        number = i * matrix_size + j + 1\n",
    "        matrix[i][j] = factorial(number) ** 2\n",
    "\n",
    "# Виведення матриці\n",
    "for row in matrix:\n",
    "    print(row)\n"
   ]
  },
  {
   "attachments": {},
   "cell_type": "markdown",
   "metadata": {},
   "source": [
    "Завдання 3\n",
    "Створіть масив розміром 5x5, заповніть його випадковими дійсними числами від 0 до 1 та знайдіть відсоток чисел, які менше свого індексу. \n"
   ]
  },
  {
   "cell_type": "code",
   "execution_count": 5,
   "metadata": {},
   "outputs": [
    {
     "name": "stdout",
     "output_type": "stream",
     "text": [
      "Масив:\n",
      "[0.05780559191621093, 0.09109354425330884, 0.2732068606466732, 0.9186235573378158, 0.13466772713481945]\n",
      "[0.5033603946156593, 0.010512021335777, 0.0868545824485274, 0.12715186030899084, 0.3659365419601529]\n",
      "[0.21973121611061974, 0.976505934857908, 0.5503788012354226, 0.9547557579002831, 0.3841908897261954]\n",
      "[0.9306073235887348, 0.4369800049447433, 0.28763891620078186, 0.22285278225121408, 0.7027954268047885]\n",
      "[0.8886614184149199, 0.7224693941105045, 0.06875156926628678, 0.010756265330943537, 0.27189480632725005]\n",
      "Відсоток чисел, які менше свого індексу: 48.0%\n"
     ]
    }
   ],
   "source": [
    "import random\n",
    "\n",
    "# Розмір масиву\n",
    "size = 5\n",
    "\n",
    "# Ініціалізація масиву з випадковими дійсними числами від 0 до 1\n",
    "matrix = [[random.uniform(0, 1) for _ in range(size)] for _ in range(size)]\n",
    "\n",
    "# Підрахунок відсотка чисел, які менше свого індексу\n",
    "count = 0\n",
    "total = 0\n",
    "\n",
    "for i in range(size):\n",
    "    for j in range(size):\n",
    "        if matrix[i][j] < i / size:\n",
    "            count += 1\n",
    "        total += 1\n",
    "\n",
    "percentage = (count / total) * 100\n",
    "\n",
    "# Виведення результату\n",
    "print(\"Масив:\")\n",
    "for row in matrix:\n",
    "    print(row)\n",
    "\n",
    "print(f\"Відсоток чисел, які менше свого індексу: {percentage}%\")\n"
   ]
  },
  {
   "attachments": {},
   "cell_type": "markdown",
   "metadata": {},
   "source": [
    "Завдання 4\n",
    "Створіть масив розміром 4x4, заповніть його випадковими дійсними числами від -1.2 до 1.2 та виведіть його значення. \n"
   ]
  },
  {
   "cell_type": "code",
   "execution_count": 6,
   "metadata": {},
   "outputs": [
    {
     "name": "stdout",
     "output_type": "stream",
     "text": [
      "[-0.027967154299185504, 0.33048165461720824, -0.8430938996775736, -0.37339561995751913]\n",
      "[0.8722846087962564, -0.9340754786158809, -0.7692807413996361, -0.7633469135740988]\n",
      "[1.0868275446541864, -0.4267383366938413, -1.1969778687055554, 0.41868962582802727]\n",
      "[-0.12783750193632137, 0.9783425462851929, -0.9405502494604611, 1.1567348001208317]\n"
     ]
    }
   ],
   "source": [
    "import random\n",
    "\n",
    "# Розмір масиву\n",
    "size = 4\n",
    "\n",
    "# Ініціалізація масиву з випадковими дійсними числами від -1.2 до 1.2\n",
    "matrix = [[random.uniform(-1.2, 1.2) for _ in range(size)] for _ in range(size)]\n",
    "\n",
    "# Виведення матриці\n",
    "for row in matrix:\n",
    "    print(row)\n"
   ]
  },
  {
   "attachments": {},
   "cell_type": "markdown",
   "metadata": {},
   "source": [
    "Завдання 5\n",
    "Створіть два одновимірних масиви розміром 5, заповніть їх випадковими цілими числами в діапазоні від 20 до 30 та виконайте на них поелементні операції додавання, віднімання та множення. "
   ]
  },
  {
   "cell_type": "code",
   "execution_count": null,
   "metadata": {},
   "outputs": [],
   "source": [
    "import random\n",
    "\n",
    "# Створення двох масивів розміром 5 з випадковими цілими числами в діапазоні від 20 до 30\n",
    "array1 = [random.randint(20, 30) for _ in range(5)]\n",
    "array2 = [random.randint(20, 30) for _ in range(5)]\n",
    "\n",
    "# Виведення створених масивів\n",
    "print(\"Масив 1:\", array1)\n",
    "print(\"Масив 2:\", array2)\n",
    "\n",
    "# Поелементне додавання\n",
    "addition_result = [a + b for a, b in zip(array1, array2)]\n",
    "print(\"Результат додавання:\", addition_result)\n",
    "\n",
    "# Поелементне віднімання\n",
    "subtraction_result = [a - b for a, b in zip(array1, array2)]\n",
    "print(\"Результат віднімання:\", subtraction_result)\n",
    "\n",
    "# Поелементне множення\n",
    "multiplication_result = [a * b for a, b in zip(array1, array2)]\n",
    "print(\"Результат множення:\", multiplication_result)\n"
   ]
  },
  {
   "cell_type": "markdown",
   "metadata": {},
   "source": [
    "6. Створіть два вектори розміром 8, заповніть їх довільними цілими числами та знайдіть їх скалярний добуток. "
   ]
  },
  {
   "cell_type": "code",
   "execution_count": null,
   "metadata": {},
   "outputs": [],
   "source": [
    "import random\n",
    "\n",
    "# Створення двох векторів розміром 8 з довільними цілими числами\n",
    "vector1 = [random.randint(1, 10) for _ in range(8)]\n",
    "vector2 = [random.randint(1, 10) for _ in range(8)]\n",
    "\n",
    "# Виведення створених векторів\n",
    "print(\"Вектор 1:\", vector1)\n",
    "print(\"Вектор 2:\", vector2)\n",
    "\n",
    "# Обчислення скалярного добутку\n",
    "scalar_product = sum(a * b for a, b in zip(vector1, vector2))\n",
    "print(\"Скалярний добуток:\", scalar_product)\n"
   ]
  },
  {
   "cell_type": "markdown",
   "metadata": {},
   "source": [
    "7. Створіть дві матриці розміром 3x2 та 2x4, заповніть їх випадковими цілими числами в діапазоні від 1 до 20 та перемножте їх між собою.\n"
   ]
  },
  {
   "cell_type": "code",
   "execution_count": null,
   "metadata": {},
   "outputs": [],
   "source": [
    "import numpy as np\n",
    "import random\n",
    "\n",
    "# Створення двох матриць розміром 3x2 та 2x4 з випадковими цілими числами\n",
    "matrix1 = np.array([[random.randint(1, 20) for _ in range(2)] for _ in range(3)])\n",
    "matrix2 = np.array([[random.randint(1, 20) for _ in range(4)] for _ in range(2)])\n",
    "\n",
    "# Виведення створених матриць\n",
    "print(\"Матриця 1:\")\n",
    "print(matrix1)\n",
    "print(\"Матриця 2:\")\n",
    "print(matrix2)\n",
    "\n",
    "# Перемноження матриць\n",
    "result_matrix = np.dot(matrix1, matrix2)\n",
    "\n",
    "# Виведення результату\n",
    "print(\"Результат перемноження матриць:\")\n",
    "print(result_matrix)\n"
   ]
  },
  {
   "cell_type": "markdown",
   "metadata": {},
   "source": [
    "8. Створіть матрицю розміром 3x3, заповніть її випадковими цілими числами в діапазоні від 1 до 12 та знайдіть її обернену матрицю. \n"
   ]
  },
  {
   "cell_type": "code",
   "execution_count": null,
   "metadata": {},
   "outputs": [],
   "source": [
    "import numpy as np\n",
    "import random\n",
    "\n",
    "# Створення матриці розміром 3x3 з випадковими цілими числами в діапазоні від 1 до 12\n",
    "matrix = np.random.randint(1, 13, (3, 3))\n",
    "\n",
    "# Виведення створеної матриці\n",
    "print(\"Випадкова матриця 3x3:\")\n",
    "print(matrix)\n",
    "\n",
    "# Знаходження оберненої матриці\n",
    "try:\n",
    "    inverse_matrix = np.linalg.inv(matrix)\n",
    "    print(\"Обернена матриця:\")\n",
    "    print(inverse_matrix)\n",
    "except np.linalg.LinAlgError:\n",
    "    print(\"Ця матриця не має оберненої матриці, оскільки вона є сингулярною.\")\n"
   ]
  },
  {
   "cell_type": "markdown",
   "metadata": {},
   "source": [
    "9. Створіть матрицю розміром 4x4, заповніть її випадковими цілими числами в діапазоні від 0 до 1 та транспонуйте її. "
   ]
  },
  {
   "cell_type": "code",
   "execution_count": null,
   "metadata": {},
   "outputs": [],
   "source": [
    "import numpy as np\n",
    "import random\n",
    "\n",
    "# Створення матриці розміром 4x4 з випадковими цілими числами в діапазоні від 0 до 1\n",
    "matrix = np.random.randint(0, 2, (4, 4))\n",
    "\n",
    "# Виведення створеної матриці\n",
    "print(\"Випадкова матриця 4x4:\")\n",
    "print(matrix)\n",
    "\n",
    "# Транспонування матриці\n",
    "transposed_matrix = np.transpose(matrix)\n",
    "\n",
    "# Виведення транспонованої матриці\n",
    "print(\"Транспонована матриця 4x4:\")\n",
    "print(transposed_matrix)\n"
   ]
  },
  {
   "cell_type": "markdown",
   "metadata": {},
   "source": [
    "10. Створіть матрицю розміром 3x4 та вектор розміром 4, заповніть матрицю випадковими цілими числами в діапазоні від 1 до 10, а вектор - випадковими дійсними числами від 0 до 1, і знайдіть суму добутків елементів кожного рядка матриці на відповідний елемент вектору. "
   ]
  },
  {
   "cell_type": "code",
   "execution_count": null,
   "metadata": {},
   "outputs": [],
   "source": [
    "import numpy as np\n",
    "import random\n",
    "\n",
    "# Створення матриці розміром 3x4 з випадковими цілими числами в діапазоні від 1 до 10\n",
    "matrix = np.random.randint(1, 11, (3, 4))\n",
    "\n",
    "# Створення вектора розміром 4 з випадковими дійсними числами від 0 до 1\n",
    "vector = np.random.rand(4)\n",
    "\n",
    "# Виведення створеної матриці та вектора\n",
    "print(\"Матриця 3x4:\")\n",
    "print(matrix)\n",
    "print(\"Вектор:\")\n",
    "print(vector)\n",
    "\n",
    "# Знаходження суми добутків елементів кожного рядка матриці на відповідний елемент вектору\n",
    "result = np.sum(matrix * vector, axis=1)\n",
    "\n",
    "# Виведення результату\n",
    "print(\"Суми добутків елементів рядків матриці на відповідні елементи вектора:\")\n",
    "print(result)\n"
   ]
  },
  {
   "cell_type": "markdown",
   "metadata": {},
   "source": [
    "11. Створіть матрицю розміром 2x3 та вектор розміром 3, заповніть матрицю випадковими дійсними числами від 0 до 1, а вектор - випадковими цілими числами в діапазоні від 1 до 10, і знайдіть добуток вектора на матрицю. "
   ]
  },
  {
   "cell_type": "code",
   "execution_count": null,
   "metadata": {},
   "outputs": [],
   "source": [
    "import numpy as np\n",
    "import random\n",
    "\n",
    "matrix = np.random.rand(2, 3)\n",
    "vector = np.random.randint(1, 11, 3)\n",
    "result = np.dot(vector, matrix)\n",
    "print(result)\n"
   ]
  },
  {
   "cell_type": "markdown",
   "metadata": {},
   "source": [
    "12. Створіть дві матриці розміром 3x3, заповніть їх випадковими цілими числами в діапазоні від 1 до 10 та знайдіть добуток всіх елементів обох матриць. \n"
   ]
  },
  {
   "cell_type": "code",
   "execution_count": null,
   "metadata": {},
   "outputs": [],
   "source": [
    "import numpy as np\n",
    "import random\n",
    "\n",
    "matrix1 = np.random.randint(1, 11, (3, 3))\n",
    "matrix2 = np.random.randint(1, 11, (3, 3))\n",
    "result = np.prod(matrix1) * np.prod(matrix2)\n",
    "print(result)\n",
    "\n"
   ]
  },
  {
   "cell_type": "markdown",
   "metadata": {},
   "source": [
    "13. Створіть дві матриці розміром 10x10, заповніть їх випадковими цілими числами в діапазоні від -5 до 5 та знайдіть добуток їх елементів."
   ]
  },
  {
   "cell_type": "code",
   "execution_count": null,
   "metadata": {},
   "outputs": [],
   "source": [
    "import numpy as np\n",
    "import random\n",
    "\n",
    "matrix1 = np.random.randint(-5, 6, (10, 10))\n",
    "matrix2 = np.random.randint(-5, 6, (10, 10))\n",
    "result = np.prod(matrix1) * np.prod(matrix2)\n",
    "print(result)\n"
   ]
  },
  {
   "cell_type": "markdown",
   "metadata": {},
   "source": [
    "14. Створіть матрицю розміром 6x6, заповніть її випадковими цілими числами в діапазоні від 1 до 100 та знайдіть середнє значення елементів на головній діагоналі. "
   ]
  },
  {
   "cell_type": "code",
   "execution_count": null,
   "metadata": {},
   "outputs": [],
   "source": [
    "import numpy as np\n",
    "import random\n",
    "\n",
    "matrix = np.random.randint(1, 101, (6, 6))\n",
    "diagonal_values = np.diagonal(matrix)\n",
    "average_diagonal = np.mean(diagonal_values)\n",
    "print(average_diagonal)\n"
   ]
  },
  {
   "cell_type": "markdown",
   "metadata": {},
   "source": [
    "15. Створіть матрицю розміром 3x3, заповніть її випадковими дійсними числами в діапазоні від -1 до 1 та знайдіть вектор-стовпчик, що містить найменший елемент у кожному стовпці матриці. \n"
   ]
  },
  {
   "cell_type": "code",
   "execution_count": null,
   "metadata": {},
   "outputs": [],
   "source": [
    "import numpy as np\n",
    "import random\n",
    "\n",
    "matrix = np.random.uniform(-1, 1, (3, 3))\n",
    "min_values = np.min(matrix, axis=0)\n",
    "column_vector = min_values.reshape((-1, 1))\n",
    "print(column_vector)\n"
   ]
  }
 ],
 "metadata": {
  "kernelspec": {
   "display_name": "Python 3",
   "language": "python",
   "name": "python3"
  },
  "language_info": {
   "codemirror_mode": {
    "name": "ipython",
    "version": 3
   },
   "file_extension": ".py",
   "mimetype": "text/x-python",
   "name": "python",
   "nbconvert_exporter": "python",
   "pygments_lexer": "ipython3",
   "version": "3.10.6"
  },
  "orig_nbformat": 4,
  "vscode": {
   "interpreter": {
    "hash": "369f2c481f4da34e4445cda3fffd2e751bd1c4d706f27375911949ba6bb62e1c"
   }
  }
 },
 "nbformat": 4,
 "nbformat_minor": 2
}
