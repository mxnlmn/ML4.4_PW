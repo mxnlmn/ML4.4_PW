{
 "cells": [
  {
   "cell_type": "markdown",
   "metadata": {},
   "source": [
    "Зчитайте дані з таблиці \"Середньорічна щомісячна зарплата в Україні за 1992—2022 роки\" з Вікіпедії за посиланням  та виконайте наступні завдання: \n",
    "\n",
    "Виведіть перші 5 рядків таблиці. "
   ]
  },
  {
   "cell_type": "code",
   "execution_count": null,
   "metadata": {},
   "outputs": [],
   "source": [
    "import pandas as pd \n",
    "import numpy as np \n",
    "\n",
    "\n",
    "# Зчитуємо дані з вказаного URL \n",
    "\n",
    "url = \"https://uk.wikipedia.org/wiki/%D0%A1%D0%B5%D1%80%D0%B5%D0%B4%D0%BD%D1%8F_%D0%B7%D0%B0%D1%80%D0%BE%D0%B1%D1%96%D1%82%D0%BD%D0%B0_%D0%BF%D0%BB%D0%B0%D1%82%D0%B0_%D0%B2_%D0%A3%D0%BA%D1%80%D0%B0%D1%97%D0%BD%D1%96\" \n",
    "\n",
    "# Зчитуємо таблицю в DataFrame \n",
    "\n",
    "data = pd.read_html(url, header=0)[2]  # Обираємо другий елемент списку, де знаходиться таблиця \n",
    "df_1 = data.head(5) \n",
    "\n",
    "# Виводимо перші 5 рядків таблиці \n",
    "print(df_1) "
   ]
  },
  {
   "cell_type": "markdown",
   "metadata": {},
   "source": [
    "Визначте кількість рядків і стовпчиків за допомогою атрибуту shape "
   ]
  },
  {
   "cell_type": "code",
   "execution_count": null,
   "metadata": {},
   "outputs": [],
   "source": [
    "# Визначення кількості рядків і стовпчиків у DataFrame\n",
    "кількість_рядків, кількість_стовпчиків = df.shape\n",
    "\n",
    "# Виведення результату\n",
    "print(f\"Кількість рядків: {кількість_рядків}\")\n",
    "print(f\"Кількість стовпчиків: {кількість_стовпчиків}\")\n"
   ]
  },
  {
   "cell_type": "markdown",
   "metadata": {},
   "source": [
    "Визначте загальну кількість років та кількість місяців у даних. \n",
    "\n",
    "\n"
   ]
  },
  {
   "cell_type": "code",
   "execution_count": null,
   "metadata": {},
   "outputs": [],
   "source": [
    "# Перетворення рядка із роками і місяцями в список років та список місяців\n",
    "years = []\n",
    "months = []\n",
    "\n",
    "for date in df['Дата']:\n",
    "    year, month = date.split('-')\n",
    "    years.append(int(year))\n",
    "    months.append(int(month))\n",
    "\n",
    "# Знаходження загальної кількості років і місяців\n",
    "total_years = len(set(years))\n",
    "total_months = len(months)\n",
    "\n",
    "print(f\"Загальна кількість років: {total_years}\")\n",
    "print(f\"Загальна кількість місяців: {total_months}\")\n"
   ]
  },
  {
   "cell_type": "markdown",
   "metadata": {},
   "source": [
    "Замінити пропущені значення  «-» в таблиці на NaN "
   ]
  },
  {
   "cell_type": "code",
   "execution_count": null,
   "metadata": {},
   "outputs": [],
   "source": [
    "# Замініть пропущені значення \"-\" на NaN\n",
    "df.replace('-', np.nan, inplace=True)"
   ]
  },
  {
   "cell_type": "markdown",
   "metadata": {},
   "source": [
    "Визначити тип стовпців за допомогою dtypes. "
   ]
  },
  {
   "cell_type": "code",
   "execution_count": null,
   "metadata": {},
   "outputs": [],
   "source": [
    "# Визначення типу стовпців у DataFrame\n",
    "column_types = df.dtypes\n",
    "\n",
    "# Виведення результату\n",
    "print(column_types)\n"
   ]
  },
  {
   "cell_type": "markdown",
   "metadata": {},
   "source": [
    "Видаліть передостанній і останній стовпчики ( Кількість кгхліба[20] на середнюзарплату,  Кільксть БігМаків на середню зарплату). Далі працюйте з оновленою таблицею.  "
   ]
  },
  {
   "cell_type": "code",
   "execution_count": null,
   "metadata": {},
   "outputs": [],
   "source": [
    "# Видалення передостаннього і останнього стовпчика\n",
    "df = df.iloc[:, :-2]\n",
    "\n",
    "# Тепер df містить оновлену таблицю без передостаннього і останнього стовпчика\n"
   ]
  },
  {
   "cell_type": "markdown",
   "metadata": {},
   "source": [
    "Замінити тип нечислових даних на числові. "
   ]
  },
  {
   "cell_type": "code",
   "execution_count": null,
   "metadata": {},
   "outputs": [],
   "source": [
    "# Заміна типів нечислових даних на числові\n",
    "df['Стовпець_з_нечисловими_даними'] = pd.to_numeric(df['Стовпець_з_нечисловими_даними'], errors='coerce')\n",
    "\n",
    "# В параметрі errors='coerce' всі недійсні значення будуть замінені на NaN\n"
   ]
  },
  {
   "cell_type": "markdown",
   "metadata": {},
   "source": [
    "Порахуйте частку пропусків в кожній колонці (за допомогою методів isnull , sum, len) "
   ]
  },
  {
   "cell_type": "code",
   "execution_count": null,
   "metadata": {},
   "outputs": [],
   "source": [
    "# Частка пропусків в кожному стовпці\n",
    "missing_percentage = (df.isnull().sum() / len(df)) * 100\n",
    "\n",
    "# Виведення результату\n",
    "print(missing_percentage)\n"
   ]
  },
  {
   "cell_type": "markdown",
   "metadata": {},
   "source": [
    "Замініть всі пропущені значення на середні значення по (стовпцю). "
   ]
  },
  {
   "cell_type": "code",
   "execution_count": null,
   "metadata": {},
   "outputs": [],
   "source": [
    "# Заміна пропущених значень на середнє значення по стовпцю\n",
    "df.fillna(df.mean(), inplace=True)\n"
   ]
  },
  {
   "cell_type": "markdown",
   "metadata": {},
   "source": [
    "Знайдіть рік з найвищою зарплатою в Україні в грн і вкажіть цю зарплату. "
   ]
  },
  {
   "cell_type": "code",
   "execution_count": null,
   "metadata": {},
   "outputs": [],
   "source": [
    "# Знайдіть рік з найвищою зарплатою в грн і вкажіть цю зарплату\n",
    "max_salary_year = df[df['Середньорічна зарплата'].idxmax()]['Рік']\n",
    "max_salary_amount = df['Середньорічна зарплата'].max()\n",
    "\n",
    "print(f\"Рік з найвищою зарплатою в Україні в гривнях: {max_salary_year}\")\n",
    "print(f\"Зарплата в цьому році: {max_salary_amount} гривень\")\n"
   ]
  },
  {
   "cell_type": "markdown",
   "metadata": {},
   "source": [
    "Знайдіть рік з мінімальною  зарплатою в Україні в дол. США і вкажіть цю зарплату. "
   ]
  },
  {
   "cell_type": "code",
   "execution_count": null,
   "metadata": {},
   "outputs": [],
   "source": [
    "# Знайдіть рік з мінімальною зарплатою в доларах США і вкажіть цю зарплату\n",
    "min_salary_usd_year = df[df['Зарплата в USD'].idxmin()]['Рік']\n",
    "min_salary_usd_amount = df['Зарплата в USD'].min()\n",
    "\n",
    "print(f\"Рік з мінімальною зарплатою в Україні в доларах США: {min_salary_usd_year}\")\n",
    "print(f\"Зарплата в цьому році: {min_salary_usd_amount} USD\")\n"
   ]
  },
  {
   "cell_type": "markdown",
   "metadata": {},
   "source": [
    "Виведіть роки, коли зарплата в грн була вище середньої "
   ]
  },
  {
   "cell_type": "code",
   "execution_count": null,
   "metadata": {},
   "outputs": [],
   "source": [
    "# Виведення років, коли зарплата в гривнях була вище середньої\n",
    "average_salary = df['Середньорічна зарплата'].mean()\n",
    "years_above_average = df[df['Середньорічна зарплата'] > average_salary]['Рік']\n",
    "\n",
    "print(\"Роки, коли зарплата в гривнях була вище середньої:\")\n",
    "print(years_above_average.to_list())\n",
    "\n"
   ]
  },
  {
   "cell_type": "markdown",
   "metadata": {},
   "source": [
    "Створіть графік, що відображає  зарплату в Україні з часом (за роками). "
   ]
  },
  {
   "cell_type": "code",
   "execution_count": null,
   "metadata": {},
   "outputs": [],
   "source": [
    "import matplotlib.pyplot as plt\n",
    "\n",
    "# Вибираємо дані для графіка\n",
    "years = df['Рік']\n",
    "salary_in_uah = df['Середньорічна зарплата']\n",
    "\n",
    "# Побудова графіка\n",
    "plt.figure(figsize=(10, 6))\n",
    "plt.plot(years, salary_in_uah, marker='o', linestyle='-')\n",
    "plt.title('Зарплата в Україні за роками')\n",
    "plt.xlabel('Рік')\n",
    "plt.ylabel('Зарплата в гривнях')\n",
    "plt.grid(True)\n",
    "\n",
    "# Відображення графіка\n",
    "plt.show()\n"
   ]
  },
  {
   "cell_type": "markdown",
   "metadata": {},
   "source": [
    "Видаліть останній рік з таблиці та виведіть оновлену таблицю. "
   ]
  },
  {
   "cell_type": "code",
   "execution_count": null,
   "metadata": {},
   "outputs": [],
   "source": [
    "# Видалення останнього року з таблиці\n",
    "df = df.iloc[:-1]\n",
    "\n",
    "# Виведення оновленої таблиці\n",
    "print(df)\n"
   ]
  },
  {
   "cell_type": "markdown",
   "metadata": {},
   "source": [
    "Побудуйте графік, що відображає середню зарплату в Україні в розрізі років без останнього року. "
   ]
  },
  {
   "cell_type": "code",
   "execution_count": null,
   "metadata": {},
   "outputs": [],
   "source": [
    "import matplotlib.pyplot as plt\n",
    "\n",
    "# Видалення останнього року з таблиці\n",
    "df = df.iloc[:-1]\n",
    "\n",
    "# Вибираємо дані для графіка\n",
    "years = df['Рік']\n",
    "average_salary = df['Середньорічна зарплата']\n",
    "\n",
    "# Побудова графіка\n",
    "plt.figure(figsize=(10, 6))\n",
    "plt.plot(years, average_salary, marker='o', linestyle='-')\n",
    "plt.title('Середня зарплата в Україні (без останнього року)')\n",
    "plt.xlabel('Рік')\n",
    "plt.ylabel('Середня зарплата')\n",
    "plt.grid(True)\n",
    "\n",
    "# Відображення графіка\n",
    "plt.show()\n"
   ]
  },
  {
   "cell_type": "markdown",
   "metadata": {},
   "source": [
    "Обчисліть зарплату за останні два роки і порівняйте її із зарплатою за останні 5 років. Вкажіть, чи є різниця, і в якому напрямку. "
   ]
  },
  {
   "cell_type": "code",
   "execution_count": null,
   "metadata": {},
   "outputs": [],
   "source": [
    "# Вибираємо дані за останні два роки\n",
    "last_two_years_data = df[df['Рік'].isin(df['Рік'].tail(2))]\n",
    "\n",
    "# Вибираємо дані за останні п'ять років\n",
    "last_five_years_data = df[df['Рік'].isin(df['Рік'].tail(5))]\n",
    "\n",
    "# Обчислюємо середню зарплату за останні два роки\n",
    "average_salary_last_two_years = last_two_years_data['Середньорічна зарплата'].mean()\n",
    "\n",
    "# Обчислюємо середню зарплату за останні п'ять років\n",
    "average_salary_last_five_years = last_five_years_data['Середньорічна зарплата'].mean()\n",
    "\n",
    "# Порівнюємо зарплати і виводимо результат\n",
    "if average_salary_last_two_years > average_salary_last_five_years:\n",
    "    print(\"Середня зарплата за останні два роки вища ніж за останні п'ять років.\")\n",
    "    print(f\"Різниця: {average_salary_last_two_years - average_salary_last_five_years}\")\n",
    "elif average_salary_last_two_years < average_salary_last_five_years:\n",
    "    print(\"Середня зарплата за останні два роки менша ніж за останні п'ять років.\")\n",
    "    print(f\"Різниця: {average_salary_last_five_years - average_salary_last_two_years}\")\n",
    "else:\n",
    "    print(\"Середня зарплата за останні два роки дорівнює середній зарплаті за останні п'ять років.\")\n"
   ]
  }
 ],
 "metadata": {
  "kernelspec": {
   "display_name": "Python 3",
   "language": "python",
   "name": "python3"
  },
  "language_info": {
   "codemirror_mode": {
    "name": "ipython",
    "version": 3
   },
   "file_extension": ".py",
   "mimetype": "text/x-python",
   "name": "python",
   "nbconvert_exporter": "python",
   "pygments_lexer": "ipython3",
   "version": "3.10.6"
  },
  "orig_nbformat": 4
 },
 "nbformat": 4,
 "nbformat_minor": 2
}
